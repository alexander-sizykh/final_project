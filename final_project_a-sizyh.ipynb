{
 "cells": [
  {
   "cell_type": "markdown",
   "metadata": {},
   "source": [
    "## Задание 1\n",
    "Считаем необходимые для выполнения задания библиотеки:"
   ]
  },
  {
   "cell_type": "code",
   "execution_count": 1,
   "metadata": {},
   "outputs": [],
   "source": [
    "import pandas as pd\n",
    "import requests\n",
    "from urllib.parse import urlencode\n",
    "\n",
    "import matplotlib.pyplot as plt\n",
    "import seaborn as sns\n",
    "sns.set_theme(style=\"whitegrid\")\n",
    "\n",
    "from scipy import stats\n",
    "import numpy as np"
   ]
  },
  {
   "cell_type": "markdown",
   "metadata": {},
   "source": [
    "base_url позволит нам считать csv-файл напрямую с Yandex Cloud без скачивания файла:"
   ]
  },
  {
   "cell_type": "code",
   "execution_count": 2,
   "metadata": {},
   "outputs": [],
   "source": [
    "base_url = 'https://cloud-api.yandex.net/v1/disk/public/resources/download?' "
   ]
  },
  {
   "cell_type": "markdown",
   "metadata": {},
   "source": [
    "Создаем запрос к Yandex Cloud для доступа к groups.csv:"
   ]
  },
  {
   "cell_type": "code",
   "execution_count": 3,
   "metadata": {},
   "outputs": [],
   "source": [
    "public_key_groups = 'https://disk.yandex.ru/d/UhyYx41rTt3clQ' \n",
    "final_url_groups = base_url + urlencode(dict(public_key=public_key_groups)) \n",
    "response_groups = requests.get(final_url_groups) \n",
    "download_url_groups = response_groups.json()['href'] "
   ]
  },
  {
   "cell_type": "markdown",
   "metadata": {},
   "source": [
    "Загружаем groups.csv в датафрейм:"
   ]
  },
  {
   "cell_type": "code",
   "execution_count": 4,
   "metadata": {},
   "outputs": [],
   "source": [
    "download_response = requests.get(download_url_groups)\n",
    "groups = pd.read_csv(download_url_groups, sep=';') "
   ]
  },
  {
   "cell_type": "markdown",
   "metadata": {},
   "source": [
    "Проверяем корректное считывание файла и его характеристики:"
   ]
  },
  {
   "cell_type": "code",
   "execution_count": 5,
   "metadata": {},
   "outputs": [
    {
     "data": {
      "text/html": [
       "<div>\n",
       "<style scoped>\n",
       "    .dataframe tbody tr th:only-of-type {\n",
       "        vertical-align: middle;\n",
       "    }\n",
       "\n",
       "    .dataframe tbody tr th {\n",
       "        vertical-align: top;\n",
       "    }\n",
       "\n",
       "    .dataframe thead th {\n",
       "        text-align: right;\n",
       "    }\n",
       "</style>\n",
       "<table border=\"1\" class=\"dataframe\">\n",
       "  <thead>\n",
       "    <tr style=\"text-align: right;\">\n",
       "      <th></th>\n",
       "      <th>id</th>\n",
       "      <th>grp</th>\n",
       "    </tr>\n",
       "  </thead>\n",
       "  <tbody>\n",
       "    <tr>\n",
       "      <th>0</th>\n",
       "      <td>1489</td>\n",
       "      <td>B</td>\n",
       "    </tr>\n",
       "    <tr>\n",
       "      <th>1</th>\n",
       "      <td>1627</td>\n",
       "      <td>A</td>\n",
       "    </tr>\n",
       "    <tr>\n",
       "      <th>2</th>\n",
       "      <td>1768</td>\n",
       "      <td>B</td>\n",
       "    </tr>\n",
       "    <tr>\n",
       "      <th>3</th>\n",
       "      <td>1783</td>\n",
       "      <td>B</td>\n",
       "    </tr>\n",
       "    <tr>\n",
       "      <th>4</th>\n",
       "      <td>1794</td>\n",
       "      <td>A</td>\n",
       "    </tr>\n",
       "  </tbody>\n",
       "</table>\n",
       "</div>"
      ],
      "text/plain": [
       "     id grp\n",
       "0  1489   B\n",
       "1  1627   A\n",
       "2  1768   B\n",
       "3  1783   B\n",
       "4  1794   A"
      ]
     },
     "execution_count": 5,
     "metadata": {},
     "output_type": "execute_result"
    }
   ],
   "source": [
    "groups.head()"
   ]
  },
  {
   "cell_type": "code",
   "execution_count": 6,
   "metadata": {},
   "outputs": [
    {
     "data": {
      "text/plain": [
       "(74484, 2)"
      ]
     },
     "execution_count": 6,
     "metadata": {},
     "output_type": "execute_result"
    }
   ],
   "source": [
    "groups.shape"
   ]
  },
  {
   "cell_type": "code",
   "execution_count": 7,
   "metadata": {},
   "outputs": [
    {
     "data": {
      "text/plain": [
       "id      int64\n",
       "grp    object\n",
       "dtype: object"
      ]
     },
     "execution_count": 7,
     "metadata": {},
     "output_type": "execute_result"
    }
   ],
   "source": [
    "groups.dtypes"
   ]
  },
  {
   "cell_type": "code",
   "execution_count": 8,
   "metadata": {},
   "outputs": [
    {
     "data": {
      "text/plain": [
       "id     0\n",
       "grp    0\n",
       "dtype: int64"
      ]
     },
     "execution_count": 8,
     "metadata": {},
     "output_type": "execute_result"
    }
   ],
   "source": [
    "groups.isna().sum()"
   ]
  },
  {
   "cell_type": "markdown",
   "metadata": {},
   "source": [
    "Проводим аналогичную процедуру для groups_add.csv, active_studs.csv, checks.csv:"
   ]
  },
  {
   "cell_type": "code",
   "execution_count": 9,
   "metadata": {},
   "outputs": [],
   "source": [
    "public_key_groups_add = 'https://disk.yandex.ru/d/5Kxrz02m3IBUwQ'\n",
    "final_url_groups_add = base_url + urlencode(dict(public_key=public_key_groups_add)) \n",
    "response_groups_add = requests.get(final_url_groups_add)\n",
    "download_url_groups_add = response_groups_add.json()['href'] "
   ]
  },
  {
   "cell_type": "code",
   "execution_count": 10,
   "metadata": {},
   "outputs": [],
   "source": [
    "download_response = requests.get(download_url_groups_add)\n",
    "groups_add = pd.read_csv(download_url_groups_add, sep=',') "
   ]
  },
  {
   "cell_type": "code",
   "execution_count": 11,
   "metadata": {},
   "outputs": [
    {
     "data": {
      "text/html": [
       "<div>\n",
       "<style scoped>\n",
       "    .dataframe tbody tr th:only-of-type {\n",
       "        vertical-align: middle;\n",
       "    }\n",
       "\n",
       "    .dataframe tbody tr th {\n",
       "        vertical-align: top;\n",
       "    }\n",
       "\n",
       "    .dataframe thead th {\n",
       "        text-align: right;\n",
       "    }\n",
       "</style>\n",
       "<table border=\"1\" class=\"dataframe\">\n",
       "  <thead>\n",
       "    <tr style=\"text-align: right;\">\n",
       "      <th></th>\n",
       "      <th>id</th>\n",
       "      <th>grp</th>\n",
       "    </tr>\n",
       "  </thead>\n",
       "  <tbody>\n",
       "    <tr>\n",
       "      <th>0</th>\n",
       "      <td>5694584</td>\n",
       "      <td>B</td>\n",
       "    </tr>\n",
       "    <tr>\n",
       "      <th>1</th>\n",
       "      <td>5694830</td>\n",
       "      <td>B</td>\n",
       "    </tr>\n",
       "    <tr>\n",
       "      <th>2</th>\n",
       "      <td>5695057</td>\n",
       "      <td>B</td>\n",
       "    </tr>\n",
       "    <tr>\n",
       "      <th>3</th>\n",
       "      <td>5698872</td>\n",
       "      <td>B</td>\n",
       "    </tr>\n",
       "    <tr>\n",
       "      <th>4</th>\n",
       "      <td>5699067</td>\n",
       "      <td>B</td>\n",
       "    </tr>\n",
       "  </tbody>\n",
       "</table>\n",
       "</div>"
      ],
      "text/plain": [
       "        id grp\n",
       "0  5694584   B\n",
       "1  5694830   B\n",
       "2  5695057   B\n",
       "3  5698872   B\n",
       "4  5699067   B"
      ]
     },
     "execution_count": 11,
     "metadata": {},
     "output_type": "execute_result"
    }
   ],
   "source": [
    "groups_add.head()"
   ]
  },
  {
   "cell_type": "code",
   "execution_count": 12,
   "metadata": {},
   "outputs": [
    {
     "data": {
      "text/plain": [
       "(92, 2)"
      ]
     },
     "execution_count": 12,
     "metadata": {},
     "output_type": "execute_result"
    }
   ],
   "source": [
    "groups_add.shape"
   ]
  },
  {
   "cell_type": "code",
   "execution_count": 13,
   "metadata": {},
   "outputs": [
    {
     "data": {
      "text/plain": [
       "id      int64\n",
       "grp    object\n",
       "dtype: object"
      ]
     },
     "execution_count": 13,
     "metadata": {},
     "output_type": "execute_result"
    }
   ],
   "source": [
    "groups_add.dtypes"
   ]
  },
  {
   "cell_type": "code",
   "execution_count": 14,
   "metadata": {},
   "outputs": [
    {
     "data": {
      "text/plain": [
       "id     0\n",
       "grp    0\n",
       "dtype: int64"
      ]
     },
     "execution_count": 14,
     "metadata": {},
     "output_type": "execute_result"
    }
   ],
   "source": [
    "groups_add.isna().sum()"
   ]
  },
  {
   "cell_type": "code",
   "execution_count": 15,
   "metadata": {},
   "outputs": [],
   "source": [
    "public_key_active_studs = 'https://disk.yandex.ru/d/Tbs44Bm6H_FwFQ'\n",
    "final_url_active_studs = base_url + urlencode(dict(public_key=public_key_active_studs)) \n",
    "response_active_studs = requests.get(final_url_active_studs) \n",
    "download_url_active_studs = response_active_studs.json()['href'] "
   ]
  },
  {
   "cell_type": "code",
   "execution_count": 16,
   "metadata": {},
   "outputs": [],
   "source": [
    "download_response = requests.get(download_url_active_studs)\n",
    "active_studs = pd.read_csv(download_url_active_studs, sep=';') "
   ]
  },
  {
   "cell_type": "code",
   "execution_count": 17,
   "metadata": {},
   "outputs": [
    {
     "data": {
      "text/html": [
       "<div>\n",
       "<style scoped>\n",
       "    .dataframe tbody tr th:only-of-type {\n",
       "        vertical-align: middle;\n",
       "    }\n",
       "\n",
       "    .dataframe tbody tr th {\n",
       "        vertical-align: top;\n",
       "    }\n",
       "\n",
       "    .dataframe thead th {\n",
       "        text-align: right;\n",
       "    }\n",
       "</style>\n",
       "<table border=\"1\" class=\"dataframe\">\n",
       "  <thead>\n",
       "    <tr style=\"text-align: right;\">\n",
       "      <th></th>\n",
       "      <th>student_id</th>\n",
       "    </tr>\n",
       "  </thead>\n",
       "  <tbody>\n",
       "    <tr>\n",
       "      <th>0</th>\n",
       "      <td>581585</td>\n",
       "    </tr>\n",
       "    <tr>\n",
       "      <th>1</th>\n",
       "      <td>5723133</td>\n",
       "    </tr>\n",
       "    <tr>\n",
       "      <th>2</th>\n",
       "      <td>3276743</td>\n",
       "    </tr>\n",
       "    <tr>\n",
       "      <th>3</th>\n",
       "      <td>4238589</td>\n",
       "    </tr>\n",
       "    <tr>\n",
       "      <th>4</th>\n",
       "      <td>4475369</td>\n",
       "    </tr>\n",
       "  </tbody>\n",
       "</table>\n",
       "</div>"
      ],
      "text/plain": [
       "   student_id\n",
       "0      581585\n",
       "1     5723133\n",
       "2     3276743\n",
       "3     4238589\n",
       "4     4475369"
      ]
     },
     "execution_count": 17,
     "metadata": {},
     "output_type": "execute_result"
    }
   ],
   "source": [
    "active_studs.head()"
   ]
  },
  {
   "cell_type": "code",
   "execution_count": 18,
   "metadata": {},
   "outputs": [
    {
     "data": {
      "text/plain": [
       "(8341, 1)"
      ]
     },
     "execution_count": 18,
     "metadata": {},
     "output_type": "execute_result"
    }
   ],
   "source": [
    "active_studs.shape"
   ]
  },
  {
   "cell_type": "code",
   "execution_count": 19,
   "metadata": {},
   "outputs": [
    {
     "data": {
      "text/plain": [
       "student_id    int64\n",
       "dtype: object"
      ]
     },
     "execution_count": 19,
     "metadata": {},
     "output_type": "execute_result"
    }
   ],
   "source": [
    "active_studs.dtypes"
   ]
  },
  {
   "cell_type": "code",
   "execution_count": 20,
   "metadata": {},
   "outputs": [
    {
     "data": {
      "text/plain": [
       "student_id    0\n",
       "dtype: int64"
      ]
     },
     "execution_count": 20,
     "metadata": {},
     "output_type": "execute_result"
    }
   ],
   "source": [
    "active_studs.isna().sum()"
   ]
  },
  {
   "cell_type": "code",
   "execution_count": 21,
   "metadata": {},
   "outputs": [],
   "source": [
    "public_key_checks = 'https://disk.yandex.ru/d/pH1q-VqcxXjsVA' \n",
    "final_url_checks = base_url + urlencode(dict(public_key=public_key_checks)) \n",
    "response_checks = requests.get(final_url_checks) \n",
    "download_url_checks = response_checks.json()['href'] "
   ]
  },
  {
   "cell_type": "code",
   "execution_count": 22,
   "metadata": {},
   "outputs": [],
   "source": [
    "download_response = requests.get(download_url_checks)\n",
    "checks = pd.read_csv(download_url_checks, sep=';') "
   ]
  },
  {
   "cell_type": "code",
   "execution_count": 23,
   "metadata": {},
   "outputs": [
    {
     "data": {
      "text/html": [
       "<div>\n",
       "<style scoped>\n",
       "    .dataframe tbody tr th:only-of-type {\n",
       "        vertical-align: middle;\n",
       "    }\n",
       "\n",
       "    .dataframe tbody tr th {\n",
       "        vertical-align: top;\n",
       "    }\n",
       "\n",
       "    .dataframe thead th {\n",
       "        text-align: right;\n",
       "    }\n",
       "</style>\n",
       "<table border=\"1\" class=\"dataframe\">\n",
       "  <thead>\n",
       "    <tr style=\"text-align: right;\">\n",
       "      <th></th>\n",
       "      <th>student_id</th>\n",
       "      <th>rev</th>\n",
       "    </tr>\n",
       "  </thead>\n",
       "  <tbody>\n",
       "    <tr>\n",
       "      <th>0</th>\n",
       "      <td>1627</td>\n",
       "      <td>990.0</td>\n",
       "    </tr>\n",
       "    <tr>\n",
       "      <th>1</th>\n",
       "      <td>3185</td>\n",
       "      <td>690.0</td>\n",
       "    </tr>\n",
       "    <tr>\n",
       "      <th>2</th>\n",
       "      <td>25973</td>\n",
       "      <td>690.0</td>\n",
       "    </tr>\n",
       "    <tr>\n",
       "      <th>3</th>\n",
       "      <td>26280</td>\n",
       "      <td>690.0</td>\n",
       "    </tr>\n",
       "    <tr>\n",
       "      <th>4</th>\n",
       "      <td>100300</td>\n",
       "      <td>990.0</td>\n",
       "    </tr>\n",
       "  </tbody>\n",
       "</table>\n",
       "</div>"
      ],
      "text/plain": [
       "   student_id    rev\n",
       "0        1627  990.0\n",
       "1        3185  690.0\n",
       "2       25973  690.0\n",
       "3       26280  690.0\n",
       "4      100300  990.0"
      ]
     },
     "execution_count": 23,
     "metadata": {},
     "output_type": "execute_result"
    }
   ],
   "source": [
    "checks.head()"
   ]
  },
  {
   "cell_type": "code",
   "execution_count": 24,
   "metadata": {},
   "outputs": [
    {
     "data": {
      "text/plain": [
       "(541, 2)"
      ]
     },
     "execution_count": 24,
     "metadata": {},
     "output_type": "execute_result"
    }
   ],
   "source": [
    "checks.shape"
   ]
  },
  {
   "cell_type": "code",
   "execution_count": 25,
   "metadata": {},
   "outputs": [
    {
     "data": {
      "text/plain": [
       "student_id      int64\n",
       "rev           float64\n",
       "dtype: object"
      ]
     },
     "execution_count": 25,
     "metadata": {},
     "output_type": "execute_result"
    }
   ],
   "source": [
    "checks.dtypes"
   ]
  },
  {
   "cell_type": "code",
   "execution_count": 26,
   "metadata": {},
   "outputs": [
    {
     "data": {
      "text/plain": [
       "student_id    0\n",
       "rev           0\n",
       "dtype: int64"
      ]
     },
     "execution_count": 26,
     "metadata": {},
     "output_type": "execute_result"
    }
   ],
   "source": [
    "checks.isna().sum()"
   ]
  },
  {
   "cell_type": "code",
   "execution_count": 27,
   "metadata": {},
   "outputs": [],
   "source": [
    "checks = checks.rename(columns={'student_id': 'id'})"
   ]
  },
  {
   "cell_type": "markdown",
   "metadata": {},
   "source": [
    "Соединяем в один датафрейм groups и groups_add:"
   ]
  },
  {
   "cell_type": "code",
   "execution_count": 28,
   "metadata": {},
   "outputs": [],
   "source": [
    "full_groups = [groups, groups_add]\n",
    "full_groups = pd.concat(full_groups)"
   ]
  },
  {
   "cell_type": "markdown",
   "metadata": {},
   "source": [
    "Проверяем, что все соединилось корректно:"
   ]
  },
  {
   "cell_type": "code",
   "execution_count": 29,
   "metadata": {},
   "outputs": [
    {
     "data": {
      "text/html": [
       "<div>\n",
       "<style scoped>\n",
       "    .dataframe tbody tr th:only-of-type {\n",
       "        vertical-align: middle;\n",
       "    }\n",
       "\n",
       "    .dataframe tbody tr th {\n",
       "        vertical-align: top;\n",
       "    }\n",
       "\n",
       "    .dataframe thead th {\n",
       "        text-align: right;\n",
       "    }\n",
       "</style>\n",
       "<table border=\"1\" class=\"dataframe\">\n",
       "  <thead>\n",
       "    <tr style=\"text-align: right;\">\n",
       "      <th></th>\n",
       "      <th>id</th>\n",
       "      <th>grp</th>\n",
       "    </tr>\n",
       "  </thead>\n",
       "  <tbody>\n",
       "    <tr>\n",
       "      <th>0</th>\n",
       "      <td>1489</td>\n",
       "      <td>B</td>\n",
       "    </tr>\n",
       "    <tr>\n",
       "      <th>1</th>\n",
       "      <td>1627</td>\n",
       "      <td>A</td>\n",
       "    </tr>\n",
       "    <tr>\n",
       "      <th>2</th>\n",
       "      <td>1768</td>\n",
       "      <td>B</td>\n",
       "    </tr>\n",
       "    <tr>\n",
       "      <th>3</th>\n",
       "      <td>1783</td>\n",
       "      <td>B</td>\n",
       "    </tr>\n",
       "    <tr>\n",
       "      <th>4</th>\n",
       "      <td>1794</td>\n",
       "      <td>A</td>\n",
       "    </tr>\n",
       "  </tbody>\n",
       "</table>\n",
       "</div>"
      ],
      "text/plain": [
       "     id grp\n",
       "0  1489   B\n",
       "1  1627   A\n",
       "2  1768   B\n",
       "3  1783   B\n",
       "4  1794   A"
      ]
     },
     "execution_count": 29,
     "metadata": {},
     "output_type": "execute_result"
    }
   ],
   "source": [
    "full_groups.head()"
   ]
  },
  {
   "cell_type": "code",
   "execution_count": 30,
   "metadata": {},
   "outputs": [
    {
     "data": {
      "text/plain": [
       "(74576, 2)"
      ]
     },
     "execution_count": 30,
     "metadata": {},
     "output_type": "execute_result"
    }
   ],
   "source": [
    "full_groups.shape"
   ]
  },
  {
   "cell_type": "markdown",
   "metadata": {},
   "source": [
    "Исходя из имеющихся данных, мы изучим следующие метрики:\n",
    "\n",
    "- количество участников эксперимента в обеих группах, число из них вошедших на платформу и доля вошедших на сайт к общему числу;\n",
    "- общая сумма трат за дни эксперимента в каждой группе;\n",
    "- размер среднего чека в каждой группе."
   ]
  },
  {
   "cell_type": "markdown",
   "metadata": {},
   "source": [
    "Выясняем общее количество человек в контрольной и тестовой группах:"
   ]
  },
  {
   "cell_type": "code",
   "execution_count": 31,
   "metadata": {},
   "outputs": [
    {
     "data": {
      "text/html": [
       "<div>\n",
       "<style scoped>\n",
       "    .dataframe tbody tr th:only-of-type {\n",
       "        vertical-align: middle;\n",
       "    }\n",
       "\n",
       "    .dataframe tbody tr th {\n",
       "        vertical-align: top;\n",
       "    }\n",
       "\n",
       "    .dataframe thead th {\n",
       "        text-align: right;\n",
       "    }\n",
       "</style>\n",
       "<table border=\"1\" class=\"dataframe\">\n",
       "  <thead>\n",
       "    <tr style=\"text-align: right;\">\n",
       "      <th></th>\n",
       "      <th>grp</th>\n",
       "      <th>id</th>\n",
       "    </tr>\n",
       "  </thead>\n",
       "  <tbody>\n",
       "    <tr>\n",
       "      <th>0</th>\n",
       "      <td>A</td>\n",
       "      <td>14693</td>\n",
       "    </tr>\n",
       "    <tr>\n",
       "      <th>1</th>\n",
       "      <td>B</td>\n",
       "      <td>59883</td>\n",
       "    </tr>\n",
       "  </tbody>\n",
       "</table>\n",
       "</div>"
      ],
      "text/plain": [
       "  grp     id\n",
       "0   A  14693\n",
       "1   B  59883"
      ]
     },
     "execution_count": 31,
     "metadata": {},
     "output_type": "execute_result"
    }
   ],
   "source": [
    "full_grps = full_groups.groupby('grp', as_index=False).id.nunique()\n",
    "full_grps"
   ]
  },
  {
   "cell_type": "markdown",
   "metadata": {},
   "source": [
    "Выделяем из всех участников тех, кто зашел на сайт в период проведения эксперимента:"
   ]
  },
  {
   "cell_type": "code",
   "execution_count": 32,
   "metadata": {},
   "outputs": [],
   "source": [
    "active_studs_groups = full_groups.query('id in @active_studs.student_id')"
   ]
  },
  {
   "cell_type": "code",
   "execution_count": 33,
   "metadata": {},
   "outputs": [
    {
     "data": {
      "text/html": [
       "<div>\n",
       "<style scoped>\n",
       "    .dataframe tbody tr th:only-of-type {\n",
       "        vertical-align: middle;\n",
       "    }\n",
       "\n",
       "    .dataframe tbody tr th {\n",
       "        vertical-align: top;\n",
       "    }\n",
       "\n",
       "    .dataframe thead th {\n",
       "        text-align: right;\n",
       "    }\n",
       "</style>\n",
       "<table border=\"1\" class=\"dataframe\">\n",
       "  <thead>\n",
       "    <tr style=\"text-align: right;\">\n",
       "      <th></th>\n",
       "      <th>id</th>\n",
       "      <th>grp</th>\n",
       "    </tr>\n",
       "  </thead>\n",
       "  <tbody>\n",
       "    <tr>\n",
       "      <th>1</th>\n",
       "      <td>1627</td>\n",
       "      <td>A</td>\n",
       "    </tr>\n",
       "    <tr>\n",
       "      <th>10</th>\n",
       "      <td>2085</td>\n",
       "      <td>B</td>\n",
       "    </tr>\n",
       "    <tr>\n",
       "      <th>12</th>\n",
       "      <td>2215</td>\n",
       "      <td>B</td>\n",
       "    </tr>\n",
       "    <tr>\n",
       "      <th>43</th>\n",
       "      <td>3391</td>\n",
       "      <td>A</td>\n",
       "    </tr>\n",
       "    <tr>\n",
       "      <th>45</th>\n",
       "      <td>3401</td>\n",
       "      <td>B</td>\n",
       "    </tr>\n",
       "  </tbody>\n",
       "</table>\n",
       "</div>"
      ],
      "text/plain": [
       "      id grp\n",
       "1   1627   A\n",
       "10  2085   B\n",
       "12  2215   B\n",
       "43  3391   A\n",
       "45  3401   B"
      ]
     },
     "execution_count": 33,
     "metadata": {},
     "output_type": "execute_result"
    }
   ],
   "source": [
    "active_studs_groups.head()"
   ]
  },
  {
   "cell_type": "code",
   "execution_count": 34,
   "metadata": {},
   "outputs": [
    {
     "data": {
      "text/plain": [
       "(8341, 2)"
      ]
     },
     "execution_count": 34,
     "metadata": {},
     "output_type": "execute_result"
    }
   ],
   "source": [
    "active_studs_groups.shape"
   ]
  },
  {
   "cell_type": "markdown",
   "metadata": {},
   "source": [
    "Выясняем, сколько из зашедших на сайт относятся к контрольной и тестовой группе:"
   ]
  },
  {
   "cell_type": "code",
   "execution_count": 35,
   "metadata": {},
   "outputs": [
    {
     "data": {
      "text/html": [
       "<div>\n",
       "<style scoped>\n",
       "    .dataframe tbody tr th:only-of-type {\n",
       "        vertical-align: middle;\n",
       "    }\n",
       "\n",
       "    .dataframe tbody tr th {\n",
       "        vertical-align: top;\n",
       "    }\n",
       "\n",
       "    .dataframe thead th {\n",
       "        text-align: right;\n",
       "    }\n",
       "</style>\n",
       "<table border=\"1\" class=\"dataframe\">\n",
       "  <thead>\n",
       "    <tr style=\"text-align: right;\">\n",
       "      <th></th>\n",
       "      <th>grp</th>\n",
       "      <th>id</th>\n",
       "    </tr>\n",
       "  </thead>\n",
       "  <tbody>\n",
       "    <tr>\n",
       "      <th>0</th>\n",
       "      <td>A</td>\n",
       "      <td>1538</td>\n",
       "    </tr>\n",
       "    <tr>\n",
       "      <th>1</th>\n",
       "      <td>B</td>\n",
       "      <td>6803</td>\n",
       "    </tr>\n",
       "  </tbody>\n",
       "</table>\n",
       "</div>"
      ],
      "text/plain": [
       "  grp    id\n",
       "0   A  1538\n",
       "1   B  6803"
      ]
     },
     "execution_count": 35,
     "metadata": {},
     "output_type": "execute_result"
    }
   ],
   "source": [
    "active_grps = active_studs_groups.groupby('grp', as_index=False).id.nunique()\n",
    "active_grps"
   ]
  },
  {
   "cell_type": "markdown",
   "metadata": {},
   "source": [
    "Объединим таблицу checks с active_studs_groups, чтобы далее выяснить количество покупок у пользователей, вошедших на платформу:"
   ]
  },
  {
   "cell_type": "code",
   "execution_count": 36,
   "metadata": {
    "scrolled": false
   },
   "outputs": [
    {
     "data": {
      "text/plain": [
       "id        0\n",
       "rev    7949\n",
       "grp     149\n",
       "dtype: int64"
      ]
     },
     "execution_count": 36,
     "metadata": {},
     "output_type": "execute_result"
    }
   ],
   "source": [
    "active_studs_checks = checks.merge(active_studs_groups, on='id', how='outer')\n",
    "active_studs_checks.isna().sum()"
   ]
  },
  {
   "cell_type": "markdown",
   "metadata": {},
   "source": [
    "Выясняем, что не все активные пользователи совершили покупку в дни эксперимента и не все покупки совершены активными пользователями.\n",
    "\n",
    "Таким образом, добавляем новую метрику: количество и доля активных пользователей, совершивших покупку в дни эксперимента.\n",
    "\n",
    "Подготовим таблицу с активными пользователями, которые совершили покупку в дни эксперимента:"
   ]
  },
  {
   "cell_type": "code",
   "execution_count": 37,
   "metadata": {},
   "outputs": [],
   "source": [
    "active_studs_checks = active_studs_checks.fillna(0)\n",
    "active_groups_checks = active_studs_checks.query('rev != 0 & grp != 0')\n",
    "active_grps_checks = active_groups_checks.groupby('grp', as_index=False).agg({'id': 'count'})"
   ]
  },
  {
   "cell_type": "markdown",
   "metadata": {},
   "source": [
    "График общего количества участников, соотношение зашедших на платформу в каждой группе и совершивших покупку:"
   ]
  },
  {
   "cell_type": "code",
   "execution_count": 38,
   "metadata": {},
   "outputs": [
    {
     "data": {
      "image/png": "[encoded data removed]",
      "text/plain": [
       "<Figure size 864x432 with 1 Axes>"
      ]
     },
     "metadata": {},
     "output_type": "display_data"
    }
   ],
   "source": [
    "f, ax = plt.subplots(figsize=(12, 6))\n",
    "\n",
    "sns.set_color_codes(\"pastel\")\n",
    "sns.barplot(data=full_grps, x='id', y='grp', color='b', label='Overall', ci=None)\n",
    "\n",
    "sns.set_color_codes(\"muted\")\n",
    "sns.barplot(data=active_grps, x='id', y='grp', color='b', label='Entered the platform', ci=None)\n",
    "\n",
    "sns.set_color_codes(\"dark\")\n",
    "sns.barplot(data=active_grps_checks, x='id', y='grp', color='b', label='Made a payment', ci=None)\n",
    "\n",
    "plt.xlabel('Number of students')\n",
    "plt.ylabel('Group', rotation=0)\n",
    "\n",
    "ax.legend(ncol=2, loc=\"best\", frameon=True)\n",
    "\n",
    "sns.despine()"
   ]
  },
  {
   "cell_type": "markdown",
   "metadata": {},
   "source": [
    "В экспериментальной группе гораздо больше как общее количество участников, так и число вошедших на платформу. Однако сложно оценить долю вошедших на сайт. На глаз она, приблизительно, равна в обеих группах. Уточняем эту метрику:"
   ]
  },
  {
   "cell_type": "code",
   "execution_count": 39,
   "metadata": {},
   "outputs": [
    {
     "data": {
      "text/plain": [
       "0    10.467570\n",
       "1    11.360486\n",
       "Name: id, dtype: float64"
      ]
     },
     "execution_count": 39,
     "metadata": {},
     "output_type": "execute_result"
    }
   ],
   "source": [
    "active_grps.id / full_grps.id * 100"
   ]
  },
  {
   "cell_type": "markdown",
   "metadata": {},
   "source": [
    "На графике невозможно оценить долю активных пользователей, совершивших покупку в дни эксперимента. Вычислим её:"
   ]
  },
  {
   "cell_type": "code",
   "execution_count": 40,
   "metadata": {},
   "outputs": [
    {
     "data": {
      "text/plain": [
       "0    5.071521\n",
       "1    4.615611\n",
       "Name: id, dtype: float64"
      ]
     },
     "execution_count": 40,
     "metadata": {},
     "output_type": "execute_result"
    }
   ],
   "source": [
    "active_grps_checks.id / active_grps.id * 100"
   ]
  },
  {
   "cell_type": "markdown",
   "metadata": {},
   "source": [
    "В тестовой группе больше и общее число участников, и количество зашедших на платформу, и их доля. Однако доля совершивших покупку ниже. \n",
    "\n",
    "Сравним группы по количеству активных пользователей, совершивших и не совершивших покупку в дни эксперимента. Для этого воспользуемся хи-квадратом, т.к. данные - категориальные:"
   ]
  },
  {
   "cell_type": "code",
   "execution_count": 41,
   "metadata": {
    "scrolled": true
   },
   "outputs": [
    {
     "data": {
      "text/html": [
       "<div>\n",
       "<style scoped>\n",
       "    .dataframe tbody tr th:only-of-type {\n",
       "        vertical-align: middle;\n",
       "    }\n",
       "\n",
       "    .dataframe tbody tr th {\n",
       "        vertical-align: top;\n",
       "    }\n",
       "\n",
       "    .dataframe thead th {\n",
       "        text-align: right;\n",
       "    }\n",
       "</style>\n",
       "<table border=\"1\" class=\"dataframe\">\n",
       "  <thead>\n",
       "    <tr style=\"text-align: right;\">\n",
       "      <th>paid</th>\n",
       "      <th>no</th>\n",
       "      <th>yes</th>\n",
       "    </tr>\n",
       "    <tr>\n",
       "      <th>grp</th>\n",
       "      <th></th>\n",
       "      <th></th>\n",
       "    </tr>\n",
       "  </thead>\n",
       "  <tbody>\n",
       "    <tr>\n",
       "      <th>A</th>\n",
       "      <td>1460</td>\n",
       "      <td>78</td>\n",
       "    </tr>\n",
       "    <tr>\n",
       "      <th>B</th>\n",
       "      <td>6489</td>\n",
       "      <td>314</td>\n",
       "    </tr>\n",
       "  </tbody>\n",
       "</table>\n",
       "</div>"
      ],
      "text/plain": [
       "paid    no  yes\n",
       "grp            \n",
       "A     1460   78\n",
       "B     6489  314"
      ]
     },
     "execution_count": 41,
     "metadata": {},
     "output_type": "execute_result"
    }
   ],
   "source": [
    "active_studs_checks['paid'] = active_studs_checks.rev.apply(lambda x: 'yes' if x > 0 else 'no')\n",
    "group_payment = pd.crosstab(active_studs_checks.query('grp != 0').grp, active_studs_checks.query('grp != 0').paid)\n",
    "group_payment"
   ]
  },
  {
   "cell_type": "code",
   "execution_count": 42,
   "metadata": {},
   "outputs": [
    {
     "data": {
      "text/plain": [
       "0.48625240457231045"
      ]
     },
     "execution_count": 42,
     "metadata": {},
     "output_type": "execute_result"
    }
   ],
   "source": [
    "stat, p, dof, expected = stats.chi2_contingency(group_payment)\n",
    "p"
   ]
  },
  {
   "cell_type": "markdown",
   "metadata": {},
   "source": [
    "p-value > 0.05, значит, группы не различаются статистически по количеству активных пользователей, совершивших и не совершивших покупку в дни эксперимента.\n",
    "\n",
    "Поскольку, как мы ранее выяснили, в тестовой группе гораздо больше участников, чем в контрольной, то не имеет смысла смотреть метрику общей суммы покупок. Однако релевантно выяснить размер среднего чека в группах активных участников, совершивших покупку за дни эксперимента."
   ]
  },
  {
   "cell_type": "code",
   "execution_count": 43,
   "metadata": {},
   "outputs": [
    {
     "data": {
      "text/plain": [
       "933.5897435897435"
      ]
     },
     "execution_count": 43,
     "metadata": {},
     "output_type": "execute_result"
    }
   ],
   "source": [
    "control_checks = active_groups_checks.query('grp == \"A\"')\n",
    "control_mean_check = control_checks.rev.mean()\n",
    "control_mean_check"
   ]
  },
  {
   "cell_type": "code",
   "execution_count": 44,
   "metadata": {},
   "outputs": [
    {
     "data": {
      "image/png": "[encoded data removed]",
      "text/plain": [
       "<Figure size 432x288 with 1 Axes>"
      ]
     },
     "metadata": {},
     "output_type": "display_data"
    }
   ],
   "source": [
    "sns.boxplot(x=control_checks.rev, showmeans=True)\n",
    "plt.xlabel('Sum')\n",
    "sns.despine()"
   ]
  },
  {
   "cell_type": "markdown",
   "metadata": {},
   "source": [
    "Построим график и проверим нормальность распределения стоимости покупок участников из контрольной группы:"
   ]
  },
  {
   "cell_type": "code",
   "execution_count": 45,
   "metadata": {},
   "outputs": [
    {
     "data": {
      "image/png": "[encoded data removed]",
      "text/plain": [
       "<Figure size 360x360 with 1 Axes>"
      ]
     },
     "metadata": {},
     "output_type": "display_data"
    }
   ],
   "source": [
    "sns.displot(data=control_checks, x='rev')\n",
    "sns.despine()"
   ]
  },
  {
   "cell_type": "code",
   "execution_count": 46,
   "metadata": {},
   "outputs": [
    {
     "data": {
      "text/plain": [
       "NormaltestResult(statistic=30.378419638487475, pvalue=2.5316868804220266e-07)"
      ]
     },
     "execution_count": 46,
     "metadata": {},
     "output_type": "execute_result"
    }
   ],
   "source": [
    "stats.normaltest(control_checks.rev)"
   ]
  },
  {
   "cell_type": "markdown",
   "metadata": {},
   "source": [
    "Т.к. распределение ненормальное, пробуем нормализовать его с помощью логарифмирования:"
   ]
  },
  {
   "cell_type": "code",
   "execution_count": 47,
   "metadata": {},
   "outputs": [
    {
     "data": {
      "text/plain": [
       "NormaltestResult(statistic=7.9915399191892345, pvalue=0.018393278875655582)"
      ]
     },
     "execution_count": 47,
     "metadata": {},
     "output_type": "execute_result"
    }
   ],
   "source": [
    "stats.normaltest(np.log(control_checks.rev))"
   ]
  },
  {
   "cell_type": "markdown",
   "metadata": {},
   "source": [
    "Но и это не помогает"
   ]
  },
  {
   "cell_type": "markdown",
   "metadata": {},
   "source": [
    "Делаем аналогичные процедуры для тестовой группы:"
   ]
  },
  {
   "cell_type": "code",
   "execution_count": 48,
   "metadata": {},
   "outputs": [
    {
     "data": {
      "text/plain": [
       "1257.8789920382164"
      ]
     },
     "execution_count": 48,
     "metadata": {},
     "output_type": "execute_result"
    }
   ],
   "source": [
    "test_checks = active_groups_checks.query('grp == \"B\"')\n",
    "test_mean_check = test_checks.rev.mean()\n",
    "test_mean_check"
   ]
  },
  {
   "cell_type": "code",
   "execution_count": 49,
   "metadata": {
    "scrolled": false
   },
   "outputs": [
    {
     "data": {
      "image/png": "[encoded data removed]",
      "text/plain": [
       "<Figure size 432x288 with 1 Axes>"
      ]
     },
     "metadata": {},
     "output_type": "display_data"
    }
   ],
   "source": [
    "sns.boxplot(x=test_checks.rev, showmeans=True)\n",
    "plt.xlabel('Sum')\n",
    "sns.despine()"
   ]
  },
  {
   "cell_type": "code",
   "execution_count": 50,
   "metadata": {},
   "outputs": [
    {
     "data": {
      "image/png": "[encoded data removed]",
      "text/plain": [
       "<Figure size 360x360 with 1 Axes>"
      ]
     },
     "metadata": {},
     "output_type": "display_data"
    }
   ],
   "source": [
    "sns.displot(data=test_checks, x='rev')\n",
    "sns.despine()"
   ]
  },
  {
   "cell_type": "code",
   "execution_count": 51,
   "metadata": {},
   "outputs": [
    {
     "data": {
      "text/plain": [
       "NormaltestResult(statistic=6.795662714490353, pvalue=0.033445723194625424)"
      ]
     },
     "execution_count": 51,
     "metadata": {},
     "output_type": "execute_result"
    }
   ],
   "source": [
    "stats.normaltest(test_checks.rev)"
   ]
  },
  {
   "cell_type": "code",
   "execution_count": 52,
   "metadata": {},
   "outputs": [
    {
     "data": {
      "text/plain": [
       "NormaltestResult(statistic=85.32513110701674, pvalue=2.9640341038161647e-19)"
      ]
     },
     "execution_count": 52,
     "metadata": {},
     "output_type": "execute_result"
    }
   ],
   "source": [
    "stats.normaltest(np.log(test_checks.rev))"
   ]
  },
  {
   "cell_type": "markdown",
   "metadata": {},
   "source": [
    "Мы не знаем наверняка; однако, увеличение среднего чека может быть связано не с ростом трат клиентов, а с увеличением стоимости услуг. Выясним, во сколько средний чек в тестовой группе больше чека в контрольной:"
   ]
  },
  {
   "cell_type": "code",
   "execution_count": 71,
   "metadata": {
    "scrolled": true
   },
   "outputs": [
    {
     "data": {
      "text/plain": [
       "1.3473573383545852"
      ]
     },
     "execution_count": 71,
     "metadata": {},
     "output_type": "execute_result"
    }
   ],
   "source": [
    "test_mean_check / control_mean_check"
   ]
  },
  {
   "cell_type": "markdown",
   "metadata": {},
   "source": [
    "Поскольку в обеих группах распределение размеров чека ненормальное, то воспользуемся бутстрепом, чтобы сравнить их. Для этого просимулируем эксперимент в каждой группе 10000 раз с повторениями, вычислим средние значения в этих симуляциях, вычтем средние контрольной группы из средних тестовой и посмотрим 95%-ый доверительный интервал разницы средних в группах:"
   ]
  },
  {
   "cell_type": "code",
   "execution_count": 54,
   "metadata": {},
   "outputs": [
    {
     "name": "stdout",
     "output_type": "stream",
     "text": [
      "The confidence interval for the difference between means in the test and control groups is from 98.48 to 536.25\n"
     ]
    }
   ],
   "source": [
    "mean_diff = []\n",
    "for i in range(10000):\n",
    "    sample_data_control = control_checks.rev.sample(frac=1, replace=True)\n",
    "    sample_mean_control = sample_data_control.mean()\n",
    "    \n",
    "    sample_data_test = test_checks.rev.sample(frac=1, replace=True)\n",
    "    sample_mean_test = sample_data_test.mean()\n",
    "    \n",
    "    sample_mean_diff = sample_mean_test - sample_mean_control\n",
    "    mean_diff.append(sample_mean_diff)\n",
    "    \n",
    "low = round(pd.Series(mean_diff).quantile(0.025), 2)\n",
    "high = round(pd.Series(mean_diff).quantile(0.975), 2)\n",
    "print(f'The confidence interval for the difference between means in the test and control groups is from {low} to {high}')"
   ]
  },
  {
   "cell_type": "code",
   "execution_count": 55,
   "metadata": {},
   "outputs": [
    {
     "data": {
      "image/png": "[encoded data removed]",
      "text/plain": [
       "<Figure size 432x288 with 1 Axes>"
      ]
     },
     "metadata": {},
     "output_type": "display_data"
    }
   ],
   "source": [
    "mean_diff_df = pd.DataFrame(mean_diff)\n",
    "sns.histplot(mean_diff_df, legend=False)\n",
    "sns.despine()"
   ]
  },
  {
   "cell_type": "markdown",
   "metadata": {},
   "source": [
    "Поскольку доверительный интервал разницы средних между тестовой и контрольной группой не включает 0 и даже не близок к нему, то среднее в тестовой группе существенно больше и различия достоверны.\n",
    "#### Таким образом, как количество вошедших на сайт участников эксперимента и их доля от общего числа участников в каждой группе, так и средний чек больше в тестовой группе. Однако доля активных участников, совершивших покупку, в тестовой группе ниже.\n",
    "### Вывод: нельзя сделать однозначный вывод о введении новой механики оплаты"
   ]
  },
  {
   "cell_type": "markdown",
   "metadata": {},
   "source": [
    "## Задание 2\n",
    "### Часть 1\n",
    "Для работы в Clickhouse через Jupyter Notebook сначала необходимо импортировать библиотеку pandahouse и авторизоваться в системе:"
   ]
  },
  {
   "cell_type": "code",
   "execution_count": 56,
   "metadata": {},
   "outputs": [],
   "source": [
    "import pandahouse as ph"
   ]
  },
  {
   "cell_type": "code",
   "execution_count": 57,
   "metadata": {},
   "outputs": [],
   "source": [
    "connection_default = {'host': 'https://clickhouse.lab.karpov.courses',\n",
    "                      'database': 'default',\n",
    "                      'user': 'student', \n",
    "                      'password': 'dpo_python_2020'}"
   ]
  },
  {
   "cell_type": "markdown",
   "metadata": {},
   "source": [
    "В задаче стоит условие выяснить количество студентов, правильно выполнивших задание за текущий месяц. Проверим за какой промежуток времени у нас имеются данные. Составим запрос так, как мы бы его написали в Clickhouse на SQL:"
   ]
  },
  {
   "cell_type": "code",
   "execution_count": 58,
   "metadata": {},
   "outputs": [],
   "source": [
    "q_interval = '''\n",
    "    SELECT\n",
    "        toDateTime(MIN(timest)) AS datetime_min,\n",
    "        toDateTime(MAX(timest)) AS datetime_max\n",
    "    FROM peas\n",
    "    '''"
   ]
  },
  {
   "cell_type": "markdown",
   "metadata": {},
   "source": [
    "Отправляем этот запрос в систему с помощью команды из библиотеки:"
   ]
  },
  {
   "cell_type": "code",
   "execution_count": 59,
   "metadata": {
    "scrolled": true
   },
   "outputs": [
    {
     "data": {
      "text/html": [
       "<div>\n",
       "<style scoped>\n",
       "    .dataframe tbody tr th:only-of-type {\n",
       "        vertical-align: middle;\n",
       "    }\n",
       "\n",
       "    .dataframe tbody tr th {\n",
       "        vertical-align: top;\n",
       "    }\n",
       "\n",
       "    .dataframe thead th {\n",
       "        text-align: right;\n",
       "    }\n",
       "</style>\n",
       "<table border=\"1\" class=\"dataframe\">\n",
       "  <thead>\n",
       "    <tr style=\"text-align: right;\">\n",
       "      <th></th>\n",
       "      <th>datetime_min</th>\n",
       "      <th>datetime_max</th>\n",
       "    </tr>\n",
       "  </thead>\n",
       "  <tbody>\n",
       "    <tr>\n",
       "      <th>0</th>\n",
       "      <td>2021-10-30 13:00:00</td>\n",
       "      <td>2021-10-31 17:29:52</td>\n",
       "    </tr>\n",
       "  </tbody>\n",
       "</table>\n",
       "</div>"
      ],
      "text/plain": [
       "         datetime_min        datetime_max\n",
       "0 2021-10-30 13:00:00 2021-10-31 17:29:52"
      ]
     },
     "execution_count": 59,
     "metadata": {},
     "output_type": "execute_result"
    }
   ],
   "source": [
    "interval = ph.read_clickhouse(query=q_interval, connection=connection_default)\n",
    "interval"
   ]
  },
  {
   "cell_type": "markdown",
   "metadata": {},
   "source": [
    "Выясняем, что наши данные – за одни сутки с 30.10.2021 по 31.10.2021. Значит, делать разбивку по месяцам в данном случае не нужно.\n",
    "\n",
    "Составляем и отправляем запрос о количество студентов, правильно выполнивших 20 и более \"горошин\". Для этого сначала необходимо составить подзапрос об отдельных студентах, сделавших 20+ заданий. И уже после этого посчитать общее количество уникальных студентов:"
   ]
  },
  {
   "cell_type": "code",
   "execution_count": 60,
   "metadata": {
    "scrolled": true
   },
   "outputs": [
    {
     "data": {
      "text/html": [
       "<div>\n",
       "<style scoped>\n",
       "    .dataframe tbody tr th:only-of-type {\n",
       "        vertical-align: middle;\n",
       "    }\n",
       "\n",
       "    .dataframe tbody tr th {\n",
       "        vertical-align: top;\n",
       "    }\n",
       "\n",
       "    .dataframe thead th {\n",
       "        text-align: right;\n",
       "    }\n",
       "</style>\n",
       "<table border=\"1\" class=\"dataframe\">\n",
       "  <thead>\n",
       "    <tr style=\"text-align: right;\">\n",
       "      <th></th>\n",
       "      <th>brilliant_students</th>\n",
       "    </tr>\n",
       "  </thead>\n",
       "  <tbody>\n",
       "    <tr>\n",
       "      <th>0</th>\n",
       "      <td>136</td>\n",
       "    </tr>\n",
       "  </tbody>\n",
       "</table>\n",
       "</div>"
      ],
      "text/plain": [
       "   brilliant_students\n",
       "0                 136"
      ]
     },
     "execution_count": 60,
     "metadata": {},
     "output_type": "execute_result"
    }
   ],
   "source": [
    "q_studs = '''\n",
    "    SELECT\n",
    "       COUNT(DISTINCT st_id) AS brilliant_students\n",
    "    FROM(\n",
    "        SELECT\n",
    "            st_id,\n",
    "            SUM(correct) AS correct\n",
    "        FROM peas\n",
    "        GROUP BY st_id\n",
    "        HAVING correct >= 20\n",
    "        )\n",
    "    '''\n",
    "\n",
    "studs = ph.read_clickhouse(query=q_studs, connection=connection_default)\n",
    "studs"
   ]
  },
  {
   "cell_type": "markdown",
   "metadata": {},
   "source": [
    "### Часть 2\n",
    "#### ARPU\n",
    "Поскольку информация о принадлежности пользователя к группе содержится в таблице studs, а сумма покупки — в final_project_check, необходимо выполнить их джойн. Группируем получившиеся данные по группе и вычисляем среднюю сумму покупки. Чтобы привести сумму к денежному формату, округляем до двух знаков после запятой: "
   ]
  },
  {
   "cell_type": "code",
   "execution_count": 61,
   "metadata": {
    "scrolled": true
   },
   "outputs": [
    {
     "data": {
      "text/html": [
       "<div>\n",
       "<style scoped>\n",
       "    .dataframe tbody tr th:only-of-type {\n",
       "        vertical-align: middle;\n",
       "    }\n",
       "\n",
       "    .dataframe tbody tr th {\n",
       "        vertical-align: top;\n",
       "    }\n",
       "\n",
       "    .dataframe thead th {\n",
       "        text-align: right;\n",
       "    }\n",
       "</style>\n",
       "<table border=\"1\" class=\"dataframe\">\n",
       "  <thead>\n",
       "    <tr style=\"text-align: right;\">\n",
       "      <th></th>\n",
       "      <th>test_grp</th>\n",
       "      <th>ARPU</th>\n",
       "    </tr>\n",
       "  </thead>\n",
       "  <tbody>\n",
       "    <tr>\n",
       "      <th>0</th>\n",
       "      <td>control</td>\n",
       "      <td>76944.44</td>\n",
       "    </tr>\n",
       "    <tr>\n",
       "      <th>1</th>\n",
       "      <td>pilot</td>\n",
       "      <td>78953.49</td>\n",
       "    </tr>\n",
       "  </tbody>\n",
       "</table>\n",
       "</div>"
      ],
      "text/plain": [
       "  test_grp      ARPU\n",
       "0  control  76944.44\n",
       "1    pilot  78953.49"
      ]
     },
     "execution_count": 61,
     "metadata": {},
     "output_type": "execute_result"
    }
   ],
   "source": [
    "q_arpu = '''\n",
    "    SELECT\n",
    "        A.test_grp AS test_grp,\n",
    "        ROUND(AVG(B.money), 2) AS ARPU\n",
    "    FROM studs AS A\n",
    "    JOIN \n",
    "        final_project_check AS B\n",
    "    ON A.st_id = B.st_id\n",
    "    GROUP BY test_grp\n",
    "    '''\n",
    "\n",
    "arpu = ph.read_clickhouse(query=q_arpu, connection=connection_default)\n",
    "arpu"
   ]
  },
  {
   "cell_type": "markdown",
   "metadata": {},
   "source": [
    "#### ARPAU\n",
    "Для вычисления ARPAU нам необходимы все три таблицы и их джойн. В первом запросе обращаемся к таблице peas, из которой извлекаем число активных пользователей, т.е. решивших правильно более 10 задач. Затем определяем их принадлежность к группе, поджойнив с таблицей studs по колонке st_id. После этого вычисляем среднюю сумму покупки в каждой группе, поджойнив с таблицей final_project_check по колонке st_id:"
   ]
  },
  {
   "cell_type": "code",
   "execution_count": 62,
   "metadata": {
    "scrolled": false
   },
   "outputs": [
    {
     "data": {
      "text/html": [
       "<div>\n",
       "<style scoped>\n",
       "    .dataframe tbody tr th:only-of-type {\n",
       "        vertical-align: middle;\n",
       "    }\n",
       "\n",
       "    .dataframe tbody tr th {\n",
       "        vertical-align: top;\n",
       "    }\n",
       "\n",
       "    .dataframe thead th {\n",
       "        text-align: right;\n",
       "    }\n",
       "</style>\n",
       "<table border=\"1\" class=\"dataframe\">\n",
       "  <thead>\n",
       "    <tr style=\"text-align: right;\">\n",
       "      <th></th>\n",
       "      <th>test_grp</th>\n",
       "      <th>ARPAU</th>\n",
       "    </tr>\n",
       "  </thead>\n",
       "  <tbody>\n",
       "    <tr>\n",
       "      <th>0</th>\n",
       "      <td>control</td>\n",
       "      <td>77647.06</td>\n",
       "    </tr>\n",
       "    <tr>\n",
       "      <th>1</th>\n",
       "      <td>pilot</td>\n",
       "      <td>81571.43</td>\n",
       "    </tr>\n",
       "  </tbody>\n",
       "</table>\n",
       "</div>"
      ],
      "text/plain": [
       "  test_grp     ARPAU\n",
       "0  control  77647.06\n",
       "1    pilot  81571.43"
      ]
     },
     "execution_count": 62,
     "metadata": {},
     "output_type": "execute_result"
    }
   ],
   "source": [
    "q_arpau = '''\n",
    "    SELECT\n",
    "        C.test_grp,\n",
    "        ROUND(AVG(D.money), 2) AS ARPAU\n",
    "    FROM(\n",
    "        SELECT\n",
    "            A.st_id,\n",
    "            B.test_grp\n",
    "        FROM\n",
    "            (SELECT\n",
    "                st_id,\n",
    "                SUM(correct) AS correct\n",
    "            FROM peas\n",
    "            GROUP BY st_id\n",
    "            HAVING correct > 10\n",
    "            ) AS A\n",
    "        JOIN studs AS B\n",
    "        ON A.st_id = B.st_id\n",
    "        ) AS C\n",
    "    JOIN final_project_check AS D\n",
    "    ON C.st_id = D.st_id\n",
    "    GROUP BY C.test_grp\n",
    "    '''\n",
    "\n",
    "arpau = ph.read_clickhouse(query=q_arpau, connection=connection_default)\n",
    "arpau"
   ]
  },
  {
   "cell_type": "markdown",
   "metadata": {},
   "source": [
    "#### CR\n",
    "Чтобы вычислить конверсию посетителей в покупку (conversion rate, CR) необходимо разделить количество уникальных клиентов на общее количество посетителей. Второе число можно извлечь из таблицы peas, где хранятся данные обо всех посетителях платформы. \n",
    "\n",
    "Количество посетителей, оформивших покупку, из числа посетителей можно из таблицы final_project_check. LEFT OUTER JOIN позволяет нам получить число всех посетителей платформы в таблице peas и число из них, оформивших покупку.\n",
    "\n",
    "Далее делим число уникальных клиентов на число уникальных пользователей. Затем умножаем получившееся число на 100 и округляем до двух знаков, чтобы привести в процентный формат:"
   ]
  },
  {
   "cell_type": "code",
   "execution_count": 63,
   "metadata": {
    "scrolled": false
   },
   "outputs": [
    {
     "data": {
      "text/html": [
       "<div>\n",
       "<style scoped>\n",
       "    .dataframe tbody tr th:only-of-type {\n",
       "        vertical-align: middle;\n",
       "    }\n",
       "\n",
       "    .dataframe tbody tr th {\n",
       "        vertical-align: top;\n",
       "    }\n",
       "\n",
       "    .dataframe thead th {\n",
       "        text-align: right;\n",
       "    }\n",
       "</style>\n",
       "<table border=\"1\" class=\"dataframe\">\n",
       "  <thead>\n",
       "    <tr style=\"text-align: right;\">\n",
       "      <th></th>\n",
       "      <th>CR</th>\n",
       "    </tr>\n",
       "  </thead>\n",
       "  <tbody>\n",
       "    <tr>\n",
       "      <th>0</th>\n",
       "      <td>14.94</td>\n",
       "    </tr>\n",
       "  </tbody>\n",
       "</table>\n",
       "</div>"
      ],
      "text/plain": [
       "      CR\n",
       "0  14.94"
      ]
     },
     "execution_count": 63,
     "metadata": {},
     "output_type": "execute_result"
    }
   ],
   "source": [
    "q_cr = '''\n",
    "    SELECT\n",
    "        ROUND(COUNT(DISTINCT B.st_id) / COUNT(DISTINCT A.st_id) * 100, 2) AS CR\n",
    "    FROM peas AS A\n",
    "    LEFT OUTER JOIN final_project_check AS B\n",
    "    ON A.st_id = B.st_id\n",
    "    '''\n",
    "\n",
    "cr = ph.read_clickhouse(query=q_cr, connection=connection_default)\n",
    "cr"
   ]
  },
  {
   "cell_type": "markdown",
   "metadata": {},
   "source": [
    "#### CR активных пользователей\n",
    "Чтобы получить конверсию активных пользователей в покупку, добавляем в предыдущий запрос агрегацию количества правильных ответов:"
   ]
  },
  {
   "cell_type": "code",
   "execution_count": 64,
   "metadata": {
    "scrolled": true
   },
   "outputs": [
    {
     "data": {
      "text/html": [
       "<div>\n",
       "<style scoped>\n",
       "    .dataframe tbody tr th:only-of-type {\n",
       "        vertical-align: middle;\n",
       "    }\n",
       "\n",
       "    .dataframe tbody tr th {\n",
       "        vertical-align: top;\n",
       "    }\n",
       "\n",
       "    .dataframe thead th {\n",
       "        text-align: right;\n",
       "    }\n",
       "</style>\n",
       "<table border=\"1\" class=\"dataframe\">\n",
       "  <thead>\n",
       "    <tr style=\"text-align: right;\">\n",
       "      <th></th>\n",
       "      <th>active_users_CR</th>\n",
       "    </tr>\n",
       "  </thead>\n",
       "  <tbody>\n",
       "    <tr>\n",
       "      <th>0</th>\n",
       "      <td>17.94</td>\n",
       "    </tr>\n",
       "  </tbody>\n",
       "</table>\n",
       "</div>"
      ],
      "text/plain": [
       "   active_users_CR\n",
       "0            17.94"
      ]
     },
     "execution_count": 64,
     "metadata": {},
     "output_type": "execute_result"
    }
   ],
   "source": [
    "q_active_users_cr = '''\n",
    "    SELECT\n",
    "        ROUND(COUNT(DISTINCT B.st_id) / COUNT(DISTINCT A.st_id) * 100 , 2) AS active_users_CR\n",
    "    FROM(\n",
    "        SELECT st_id\n",
    "        FROM peas\n",
    "        GROUP BY st_id\n",
    "        HAVING SUM(correct) > 10\n",
    "        ) AS A\n",
    "    LEFT OUTER JOIN final_project_check AS B\n",
    "    ON A.st_id = B.st_id\n",
    "    '''\n",
    "\n",
    "active_users_cr = ph.read_clickhouse(query=q_active_users_cr, connection=connection_default)\n",
    "active_users_cr"
   ]
  },
  {
   "cell_type": "markdown",
   "metadata": {},
   "source": [
    "#### CR активных пользователей по математике в покупку курса по математике\n",
    "Чтобы вычислить этот показатель, сначала определяем активных пользователей по математике в таблице peas. Затем джойним эту таблицу с таблицей final_project_check по id студентов и предмету. После делим количество клиентов на количество активных пользователей по математике и переводим в процентный формат:"
   ]
  },
  {
   "cell_type": "code",
   "execution_count": 65,
   "metadata": {
    "scrolled": true
   },
   "outputs": [
    {
     "data": {
      "text/html": [
       "<div>\n",
       "<style scoped>\n",
       "    .dataframe tbody tr th:only-of-type {\n",
       "        vertical-align: middle;\n",
       "    }\n",
       "\n",
       "    .dataframe tbody tr th {\n",
       "        vertical-align: top;\n",
       "    }\n",
       "\n",
       "    .dataframe thead th {\n",
       "        text-align: right;\n",
       "    }\n",
       "</style>\n",
       "<table border=\"1\" class=\"dataframe\">\n",
       "  <thead>\n",
       "    <tr style=\"text-align: right;\">\n",
       "      <th></th>\n",
       "      <th>active_users_math_CR</th>\n",
       "    </tr>\n",
       "  </thead>\n",
       "  <tbody>\n",
       "    <tr>\n",
       "      <th>0</th>\n",
       "      <td>8.79</td>\n",
       "    </tr>\n",
       "  </tbody>\n",
       "</table>\n",
       "</div>"
      ],
      "text/plain": [
       "   active_users_math_CR\n",
       "0                  8.79"
      ]
     },
     "execution_count": 65,
     "metadata": {},
     "output_type": "execute_result"
    }
   ],
   "source": [
    "q_active_users_CR_math = '''\n",
    "    SELECT\n",
    "        ROUND(COUNT(DISTINCT B.st_id) / COUNT(DISTINCT A.st_id) * 100, 2) AS active_users_math_CR\n",
    "    FROM(\n",
    "        SELECT\n",
    "            st_id,\n",
    "            subject\n",
    "        FROM peas\n",
    "        WHERE subject = 'Math'\n",
    "        GROUP BY st_id, subject\n",
    "        HAVING SUM(correct) >= 2\n",
    "        ) AS A\n",
    "    LEFT OUTER JOIN final_project_check AS B\n",
    "    ON A.st_id = B.st_id AND A.subject = B.subject\n",
    "    '''\n",
    "\n",
    "active_users_CR_math = ph.read_clickhouse(query=q_active_users_CR_math, connection=connection_default)\n",
    "active_users_CR_math"
   ]
  },
  {
   "cell_type": "markdown",
   "metadata": {},
   "source": [
    "## Задание 3\n",
    "### Часть 1"
   ]
  },
  {
   "cell_type": "code",
   "execution_count": 66,
   "metadata": {},
   "outputs": [],
   "source": [
    "def groups_add(public_key):\n",
    "    '''\n",
    "    Определяем функция groups_add(public_key), где public_key – переменная, содержащая ссылку на данные, которые нужно подгрузить\n",
    "\n",
    "    Сначала создаем final_url, который состоит из base_url, ссылки api, и переведенного в формат ссылки public_key.\n",
    "\n",
    "    Далее делаем запрос к Yandex Cloud для получения данных и считываем csv-файл.\n",
    "\n",
    "    Затем объединяем исходный датафрейм groups с новым датафреймом groups_add.\n",
    "\n",
    "    После рассчитываем количество уникальных пользователей в контрольной и тестовой группе в таблице full_grps и печатаем получившиеся расчеты.\n",
    "    \n",
    "    Таблицу делаем глобальной, чтобы использовать ее в дальнейшем.\n",
    "\n",
    "    В продолжение вычисляем количество активных пользователей, выделив в датафрейме full_grps только активных пользователей, обратившись к id студентов в датафрейме active_studs.\n",
    "    \n",
    "    И так же определяем их количество в каждой группе. И печатаем этот расчет.\n",
    "    \n",
    "    Таблицу active_grps делаем глобальной, чтобы использовать ее в дальнейшем.\n",
    "\n",
    "    Считаем долю активных пользователей, разделив датафрейм active_grps с активными пользователями на full_grps со всеми пользователями;\n",
    "    затем переводим получившиеся числа в процентный формат и выводим на печать.\n",
    "\n",
    "    Обратившись к таблице checks и выделив из нее студентов из контрольной и тестовой группы, рассчитываем средний размер чека в каждой группе и печатаем эту информацию.\n",
    "    \n",
    "    Таблицы control_checks и test_checks делаем глобальными, чтобы использовать их в дальнейшем.\n",
    "    '''\n",
    "    \n",
    "    final_url = base_url + urlencode(dict(public_key=public_key)) \n",
    "    response = requests.get(final_url)\n",
    "    download_url = response.json()['href'] \n",
    "    \n",
    "    groups_add = pd.read_csv(download_url, sep=',')\n",
    "    \n",
    "    full_groups = [groups, groups_add]\n",
    "    full_groups = pd.concat(full_groups)\n",
    "    \n",
    "    global full_grps\n",
    "    full_grps = full_groups.groupby('grp', as_index=False).id.nunique()\n",
    "    print(f'The entire number of students in the control and test groups is equal to: {full_grps}\\n')\n",
    "    \n",
    "    global active_grps\n",
    "    active_studs_groups = full_groups.query('id in @active_studs.student_id')\n",
    "    active_grps = active_studs_groups.groupby('grp', as_index=False).id.nunique()\n",
    "    print(f'The number of active students in the control and test groups is equal to: {active_grps}\\n')\n",
    "    \n",
    "    global active_grps_checks\n",
    "    active_studs_checks = checks.merge(active_studs_groups, on='id', how='outer')\n",
    "    active_studs_checks = active_studs_checks.fillna(0)\n",
    "    active_groups_checks = active_studs_checks.query('rev != 0 & grp != 0')\n",
    "    active_grps_checks = active_groups_checks.groupby('grp', as_index=False).agg({'id': 'count'})\n",
    "    print(f'The number of active students who made a purchase in the control and test groups is {active_grps_checks}\\n')\n",
    "    \n",
    "    active_studs_share = pd.Series(round(active_grps.id / full_grps.id * 100, 2))\n",
    "    print(f'The share of active students in the control and test groups is equal to: {active_studs_share}\\n')\n",
    "    \n",
    "    groups_purchase_share = pd.Series(round(active_grps_checks.id / active_grps.id * 100, 2))\n",
    "    print(f'The share of active students who made a purchase in the control and test groups is {groups_purchase_share}\\n')\n",
    "    \n",
    "    global control_checks\n",
    "    control_checks = active_groups_checks.query('grp == \"A\"')\n",
    "    control_mean_check = round(control_checks.rev.mean(), 2)\n",
    "    print(f'The mean sum in the test group is equal to {control_mean_check}\\n')\n",
    "    \n",
    "    global test_checks\n",
    "    test_checks = active_groups_checks.query('grp == \"B\"')\n",
    "    test_mean_check = round(test_checks.rev.mean(), 2)\n",
    "    print(f'The mean sum in the control group is equal to {test_mean_check}')"
   ]
  },
  {
   "cell_type": "markdown",
   "metadata": {},
   "source": [
    "Задаем значение переменной public_key и реализуем функцию groups_add от переменной public_key:"
   ]
  },
  {
   "cell_type": "code",
   "execution_count": 67,
   "metadata": {},
   "outputs": [
    {
     "name": "stdout",
     "output_type": "stream",
     "text": [
      "The entire number of students in the control and test groups is equal to:   grp     id\n",
      "0   A  14693\n",
      "1   B  59883\n",
      "\n",
      "The number of active students in the control and test groups is equal to:   grp    id\n",
      "0   A  1538\n",
      "1   B  6803\n",
      "\n",
      "The number of active students who made a purchase in the control and test groups is   grp   id\n",
      "0   A   78\n",
      "1   B  314\n",
      "\n",
      "The share of active students in the control and test groups is equal to: 0    10.47\n",
      "1    11.36\n",
      "Name: id, dtype: float64\n",
      "\n",
      "The share of active students who made a purchase in the control and test groups is 0    5.07\n",
      "1    4.62\n",
      "Name: id, dtype: float64\n",
      "\n",
      "The mean sum in the test group is equal to 933.59\n",
      "\n",
      "The mean sum in the control group is equal to 1257.88\n"
     ]
    }
   ],
   "source": [
    "public_key = 'https://disk.yandex.ru/d/5Kxrz02m3IBUwQ'\n",
    "groups_add(public_key)"
   ]
  },
  {
   "cell_type": "markdown",
   "metadata": {},
   "source": [
    "### Часть 2"
   ]
  },
  {
   "cell_type": "code",
   "execution_count": 68,
   "metadata": {},
   "outputs": [],
   "source": [
    "def plots():\n",
    "    '''\n",
    "    Для сравнения общего числа пользователей в группах, числа активных пользователей и их долю сделаем горизонтальный барчарт.\n",
    "    \n",
    "    Сначала зададим его размеры. Сначала построим график с общим числом пользователей, обратившись к таблице full_grps.\n",
    "    \n",
    "    Для него выберем пастельный оттенок синего цвета и обозначим как overall.\n",
    "    \n",
    "    Затем поверх построим график с активными пользователями – он будет приглушенного синего цвета и обозначен Entered the platform.\n",
    "    \n",
    "    Дадим название самому графику и обозначим, что на оси x и на оси y. Теперь нам удобно сравнивать показатели между собой.\n",
    "    \n",
    "    Для сравнения размера среднего чека в каждой группе построим боксплоты, которые нам дадут сведения также и разбросе сумм в чеке.\n",
    "    \n",
    "    Строим боксплот с суммами в контрольной группе, обратившись к колонке rev в таблицей control_checks.\n",
    "    \n",
    "    После даем название графику и оси x. Проводим аналогичные процедуры для графика чеков в тестовой группе. Зеленым треугольником обозначены средние значения чека. \n",
    "    \n",
    "    Также приведем оси x к одному размеру, чтобы было проще сравнивать графики.\n",
    "    '''\n",
    "    \n",
    "    f, ax = plt.subplots(figsize=(12, 6))\n",
    "\n",
    "    sns.set_color_codes(\"pastel\")\n",
    "    sns.barplot(data=full_grps, x='id', y='grp', color='b', label='Overall', ci=None)\n",
    "\n",
    "    sns.set_color_codes(\"muted\")\n",
    "    sns.barplot(data=active_grps, x='id', y='grp', color='b', label='Entered the platform', ci=None)\n",
    "    \n",
    "    sns.set_color_codes(\"dark\")\n",
    "    sns.barplot(data=active_grps_checks, x='id', y='grp', color='b', label='Made a payment', ci=None)\n",
    "\n",
    "    plt.title('Number of students in the groups and the share of active students')\n",
    "    plt.xlabel('Number of students')\n",
    "    plt.ylabel('Group', rotation=0)\n",
    "\n",
    "    ax.legend(ncol=2, loc=\"best\", frameon=True)\n",
    "\n",
    "    sns.despine()\n",
    "\n",
    "    m, p = plt.subplots(figsize=(12, 6))\n",
    "    sns.boxplot(x=control_checks.rev, showmeans=True)\n",
    "    plt.title('Sums in the control group')\n",
    "    plt.xlabel('Sum')\n",
    "    p.set(xlim=(0, 5000))\n",
    "    sns.despine()\n",
    "    \n",
    "    l, k = plt.subplots(figsize=(12, 6))\n",
    "    sns.boxplot(x=test_checks.rev, showmeans=True)\n",
    "    plt.title('Sums in the test group')\n",
    "    plt.xlabel('Sum')\n",
    "    k.set(xlim=(0, 5000))\n",
    "    sns.despine()"
   ]
  },
  {
   "cell_type": "markdown",
   "metadata": {},
   "source": [
    "Реализуем функцию:"
   ]
  },
  {
   "cell_type": "code",
   "execution_count": 69,
   "metadata": {
    "scrolled": false
   },
   "outputs": [
    {
     "data": {
      "image/png": "[encoded data removed]",
      "text/plain": [
       "<Figure size 864x432 with 1 Axes>"
      ]
     },
     "metadata": {},
     "output_type": "display_data"
    },
    {
     "data": {
      "image/png": "[encoded data removed]",
      "text/plain": [
       "<Figure size 864x432 with 1 Axes>"
      ]
     },
     "metadata": {},
     "output_type": "display_data"
    },
    {
     "data": {
      "image/png": "[encoded data removed]",
      "text/plain": [
       "<Figure size 864x432 with 1 Axes>"
      ]
     },
     "metadata": {},
     "output_type": "display_data"
    }
   ],
   "source": [
    "plots()"
   ]
  }
 ],
 "metadata": {
  "kernelspec": {
   "display_name": "Python 3",
   "language": "python",
   "name": "python3"
  },
  "language_info": {
   "codemirror_mode": {
    "name": "ipython",
    "version": 3
   },
   "file_extension": ".py",
   "mimetype": "text/x-python",
   "name": "python",
   "nbconvert_exporter": "python",
   "pygments_lexer": "ipython3",
   "version": "3.7.3"
  }
 },
 "nbformat": 4,
 "nbformat_minor": 4
}
